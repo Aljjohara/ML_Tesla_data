{
 "cells": [
  {
   "cell_type": "code",
   "execution_count": 1,
   "metadata": {},
   "outputs": [],
   "source": [
    "import numpy as np\n",
    "from datetime import date\n",
    "import pandas as pd\n",
    "import os\n",
    "from datetime import datetime, timedelta\n",
    "%matplotlib inline\n",
    "import nltk\n",
    "from statistics import mean \n",
    "from dotenv import load_dotenv\n",
    "import nltk\n",
    "from nltk.sentiment.vader import SentimentIntensityAnalyzer\n",
    "import json\n",
    "import requests\n",
    "load_dotenv()\n",
    "import os\n",
    "from nltk.sentiment.vader import SentimentIntensityAnalyzer\n",
    "\n",
    "%matplotlib inline"
   ]
  },
  {
   "cell_type": "code",
   "execution_count": 2,
   "metadata": {},
   "outputs": [],
   "source": [
    "analyzer = SentimentIntensityAnalyzer()"
   ]
  },
  {
   "cell_type": "code",
   "execution_count": 3,
   "metadata": {},
   "outputs": [],
   "source": [
    "features_df = pd.read_csv(\"features_df.csv\") "
   ]
  },
  {
   "cell_type": "code",
   "execution_count": 4,
   "metadata": {},
   "outputs": [],
   "source": [
    "features_df.rename(columns={'Unnamed: 0':'Date'}, inplace=True)\n",
    "features_df=features_df.set_index('Date')"
   ]
  },
  {
   "cell_type": "code",
   "execution_count": 5,
   "metadata": {},
   "outputs": [],
   "source": [
    "#features_df = pd.Timestamp('Date').to_datetime()\n",
    "features_df.index = pd.to_datetime(features_df.index).date\n"
   ]
  },
  {
   "cell_type": "code",
   "execution_count": 6,
   "metadata": {},
   "outputs": [
    {
     "name": "stderr",
     "output_type": "stream",
     "text": [
      "[nltk_data] Downloading package vader_lexicon to\n",
      "[nltk_data]     /Users/aljohara/nltk_data...\n",
      "[nltk_data]   Package vader_lexicon is already up-to-date!\n"
     ]
    }
   ],
   "source": [
    "# Download/Update the VADER Lexicon\n",
    "nltk.download('vader_lexicon')\n",
    "\n",
    "# Initialize the VADER sentiment analyzer\n",
    "analyzer = SentimentIntensityAnalyzer()"
   ]
  },
  {
   "cell_type": "code",
   "execution_count": 7,
   "metadata": {},
   "outputs": [
    {
     "data": {
      "text/html": [
       "<div>\n",
       "<style scoped>\n",
       "    .dataframe tbody tr th:only-of-type {\n",
       "        vertical-align: middle;\n",
       "    }\n",
       "\n",
       "    .dataframe tbody tr th {\n",
       "        vertical-align: top;\n",
       "    }\n",
       "\n",
       "    .dataframe thead th {\n",
       "        text-align: right;\n",
       "    }\n",
       "</style>\n",
       "<table border=\"1\" class=\"dataframe\">\n",
       "  <thead>\n",
       "    <tr style=\"text-align: right;\">\n",
       "      <th></th>\n",
       "      <th>Date</th>\n",
       "    </tr>\n",
       "  </thead>\n",
       "  <tbody>\n",
       "    <tr>\n",
       "      <th>0</th>\n",
       "      <td>2018-07-03</td>\n",
       "    </tr>\n",
       "    <tr>\n",
       "      <th>1</th>\n",
       "      <td>2018-07-05</td>\n",
       "    </tr>\n",
       "    <tr>\n",
       "      <th>2</th>\n",
       "      <td>2018-07-06</td>\n",
       "    </tr>\n",
       "    <tr>\n",
       "      <th>3</th>\n",
       "      <td>2018-07-09</td>\n",
       "    </tr>\n",
       "    <tr>\n",
       "      <th>4</th>\n",
       "      <td>2018-07-10</td>\n",
       "    </tr>\n",
       "  </tbody>\n",
       "</table>\n",
       "</div>"
      ],
      "text/plain": [
       "         Date\n",
       "0  2018-07-03\n",
       "1  2018-07-05\n",
       "2  2018-07-06\n",
       "3  2018-07-09\n",
       "4  2018-07-10"
      ]
     },
     "execution_count": 7,
     "metadata": {},
     "output_type": "execute_result"
    }
   ],
   "source": [
    "dates=pd.DataFrame({'Date':pd.Series(features_df.index)})\n",
    "dates.head()"
   ]
  },
  {
   "cell_type": "markdown",
   "metadata": {},
   "source": [
    "# Fetch News Articles\n",
    "### - Gnews\n",
    "### - Stock News API"
   ]
  },
  {
   "cell_type": "code",
   "execution_count": 8,
   "metadata": {},
   "outputs": [],
   "source": [
    "articles_df = pd.DataFrame(columns=['date','text','source', 'compound'])"
   ]
  },
  {
   "cell_type": "code",
   "execution_count": 9,
   "metadata": {},
   "outputs": [],
   "source": [
    "# Read your api key environment variable\n",
    "api_key = os.getenv(\"gnews\")\n"
   ]
  },
  {
   "cell_type": "code",
   "execution_count": 10,
   "metadata": {},
   "outputs": [],
   "source": [
    "#GNEWS:\n",
    "import requests\n",
    "import json\n",
    "\n",
    "\n",
    "request_url = \"https://gnews.io/api/v3/search\"\n",
    "query = 'tesla'\n",
    "\n",
    "import time\n",
    "n = len(dates)\n",
    "# we go over all dates in stock price df, we jump 5 days to save more iterations (API limit), fetching a week before the current date\n",
    "for i in range(0,n,5):\n",
    "    \n",
    "    date = dates.loc[i]['Date']\n",
    "    # minus 1 week\n",
    "    date_begin = date - pd.to_timedelta(1, unit='w')\n",
    "    #print(date,date_begin)\n",
    "\n",
    "    # change date to string\n",
    "    date = str(date)\n",
    "    date_begin = str(date_begin)\n",
    "    \n",
    "    # Create parameterized url\n",
    "\n",
    "    params = {\"q\":query,'token':api_key,'max':'100','mindate':date_begin,'maxdate':date}\n",
    "    \n",
    "    # Submit request and format output as json\n",
    "    response_data = requests.get(request_url,params=params).json()\n",
    "    \n",
    "    # To stop when we reach API limit\n",
    "    try:\n",
    "        count_articles = response_data['articleCount']\n",
    "        returned_articles_gapi = response_data['articles']\n",
    "    except:\n",
    "        print('error', response_data)\n",
    "        break\n",
    "    \n",
    "    # add to articles_df\n",
    "    for article in returned_articles_gapi:\n",
    "        date = article['publishedAt']\n",
    "        date = pd.to_datetime(date).date()\n",
    "        text = article['title'] + ' '\n",
    "        text += article['description']\n",
    "        articles_df  = articles_df.append({'date':date,'text':text, 'source':'gapi'},ignore_index=True)\n",
    "    # Sleep for 5 seconds because API blocks sending too many requests in short time \n",
    "    time.sleep(5)"
   ]
  },
  {
   "cell_type": "code",
   "execution_count": 11,
   "metadata": {},
   "outputs": [],
   "source": [
    "# Stock News API\n",
    "stocknewsapi_key = os.getenv(\"stock_news_api\")"
   ]
  },
  {
   "cell_type": "code",
   "execution_count": 12,
   "metadata": {},
   "outputs": [],
   "source": [
    "request_url = \"https://stocknewsapi.com/api/v1\"\n",
    "query = 'TSLA'\n",
    "\n",
    "n = len(dates)\n",
    "for i in range(n):\n",
    "    date = dates.loc[i]['Date']\n",
    "    # minus 1 week\n",
    "    date_begin = date - pd.to_timedelta(1, unit='w')\n",
    "    #date_begin = date_begin.date()\n",
    "\n",
    "\n",
    "    # change it to MMDDYYYY formate for stocknewsapi call\n",
    "    date = str(date)\n",
    "    date = date.split('-')\n",
    "    date = date[1]+date[2]+date[0]\n",
    "    date_begin = str(date_begin)\n",
    "    date_begin = date_begin.split('-')\n",
    "    date_begin = date_begin[1]+date_begin[2]+date_begin[0]\n",
    "    \n",
    "    date = date_begin+'-'+date\n",
    "\n",
    "    # Create parameterized url\n",
    "    params = {\"tickers\":query,'token':stocknewsapi_key,'items':'50','fallback':'true','date':date}\n",
    "    \n",
    "    # Submit request and format output as json\n",
    "    response_data = requests.get(request_url,params=params).json()\n",
    "    \n",
    "    articles = response_data['data']\n",
    "\n",
    "     # add to articles_df\n",
    "    for article in articles:\n",
    "        date = article['date']\n",
    "        date = pd.to_datetime(date).date()\n",
    "        text = article['title'] + ' '\n",
    "        text += article['text']\n",
    "        sentiment = article['sentiment']\n",
    "        articles_df  = articles_df.append({'date':date,'text':text, 'source':'stocknews'},ignore_index=True)\n",
    "        "
   ]
  },
  {
   "cell_type": "markdown",
   "metadata": {},
   "source": [
    "## Sentiment Analysis of Gnews & Stock News API\n"
   ]
  },
  {
   "cell_type": "code",
   "execution_count": 13,
   "metadata": {},
   "outputs": [],
   "source": [
    "# Sentiment Analysis \n",
    "n = len(articles_df)\n",
    "for i in range(n):\n",
    "    article = articles_df.iloc[i]\n",
    "    text = article['text']\n",
    "    sentiment = analyzer.polarity_scores(text)    \n",
    "    articles_df.loc[i]['compound'] = sentiment['compound']"
   ]
  },
  {
   "cell_type": "code",
   "execution_count": 14,
   "metadata": {},
   "outputs": [
    {
     "data": {
      "text/html": [
       "<div>\n",
       "<style scoped>\n",
       "    .dataframe tbody tr th:only-of-type {\n",
       "        vertical-align: middle;\n",
       "    }\n",
       "\n",
       "    .dataframe tbody tr th {\n",
       "        vertical-align: top;\n",
       "    }\n",
       "\n",
       "    .dataframe thead th {\n",
       "        text-align: right;\n",
       "    }\n",
       "</style>\n",
       "<table border=\"1\" class=\"dataframe\">\n",
       "  <thead>\n",
       "    <tr style=\"text-align: right;\">\n",
       "      <th></th>\n",
       "      <th>date</th>\n",
       "      <th>text</th>\n",
       "      <th>source</th>\n",
       "      <th>compound</th>\n",
       "    </tr>\n",
       "  </thead>\n",
       "  <tbody>\n",
       "    <tr>\n",
       "      <th>0</th>\n",
       "      <td>2018-07-02</td>\n",
       "      <td>Construction workers offer tips to stay cool T...</td>\n",
       "      <td>gapi</td>\n",
       "      <td>0.3818</td>\n",
       "    </tr>\n",
       "    <tr>\n",
       "      <th>1</th>\n",
       "      <td>2018-07-01</td>\n",
       "      <td>NYT ed board: Time for new Dem leadership TRAD...</td>\n",
       "      <td>gapi</td>\n",
       "      <td>-0.4019</td>\n",
       "    </tr>\n",
       "    <tr>\n",
       "      <th>2</th>\n",
       "      <td>2018-06-30</td>\n",
       "      <td>Elon Musk stole my dad’s farting unicorn art, ...</td>\n",
       "      <td>gapi</td>\n",
       "      <td>0.7096</td>\n",
       "    </tr>\n",
       "    <tr>\n",
       "      <th>3</th>\n",
       "      <td>2018-06-29</td>\n",
       "      <td>Evergreen artist wants Elon Musk to puff up pa...</td>\n",
       "      <td>gapi</td>\n",
       "      <td>-0.296</td>\n",
       "    </tr>\n",
       "    <tr>\n",
       "      <th>4</th>\n",
       "      <td>2018-06-29</td>\n",
       "      <td>Virgin Orbit Gears Up for Captive Carry Test F...</td>\n",
       "      <td>gapi</td>\n",
       "      <td>0.5423</td>\n",
       "    </tr>\n",
       "    <tr>\n",
       "      <th>...</th>\n",
       "      <td>...</td>\n",
       "      <td>...</td>\n",
       "      <td>...</td>\n",
       "      <td>...</td>\n",
       "    </tr>\n",
       "    <tr>\n",
       "      <th>25943</th>\n",
       "      <td>2020-06-23</td>\n",
       "      <td>Apple, Google, Tesla CEOs slam Trump’s move to...</td>\n",
       "      <td>stocknews</td>\n",
       "      <td>-0.7351</td>\n",
       "    </tr>\n",
       "    <tr>\n",
       "      <th>25944</th>\n",
       "      <td>2020-06-23</td>\n",
       "      <td>Google, Apple, Tesla CEOs All Blast Trump Fore...</td>\n",
       "      <td>stocknews</td>\n",
       "      <td>-0.2263</td>\n",
       "    </tr>\n",
       "    <tr>\n",
       "      <th>25945</th>\n",
       "      <td>2020-06-23</td>\n",
       "      <td>What Pandemic? These 5 Large Caps Are Up More ...</td>\n",
       "      <td>stocknews</td>\n",
       "      <td>0</td>\n",
       "    </tr>\n",
       "    <tr>\n",
       "      <th>25946</th>\n",
       "      <td>2020-06-23</td>\n",
       "      <td>Tesla's Third-Row Model Y May Come Early The c...</td>\n",
       "      <td>stocknews</td>\n",
       "      <td>0.7845</td>\n",
       "    </tr>\n",
       "    <tr>\n",
       "      <th>25947</th>\n",
       "      <td>2020-06-23</td>\n",
       "      <td>Google, Amazon and Tesla slam Trump's immigrat...</td>\n",
       "      <td>stocknews</td>\n",
       "      <td>-0.6124</td>\n",
       "    </tr>\n",
       "  </tbody>\n",
       "</table>\n",
       "<p>25948 rows × 4 columns</p>\n",
       "</div>"
      ],
      "text/plain": [
       "             date                                               text  \\\n",
       "0      2018-07-02  Construction workers offer tips to stay cool T...   \n",
       "1      2018-07-01  NYT ed board: Time for new Dem leadership TRAD...   \n",
       "2      2018-06-30  Elon Musk stole my dad’s farting unicorn art, ...   \n",
       "3      2018-06-29  Evergreen artist wants Elon Musk to puff up pa...   \n",
       "4      2018-06-29  Virgin Orbit Gears Up for Captive Carry Test F...   \n",
       "...           ...                                                ...   \n",
       "25943  2020-06-23  Apple, Google, Tesla CEOs slam Trump’s move to...   \n",
       "25944  2020-06-23  Google, Apple, Tesla CEOs All Blast Trump Fore...   \n",
       "25945  2020-06-23  What Pandemic? These 5 Large Caps Are Up More ...   \n",
       "25946  2020-06-23  Tesla's Third-Row Model Y May Come Early The c...   \n",
       "25947  2020-06-23  Google, Amazon and Tesla slam Trump's immigrat...   \n",
       "\n",
       "          source compound  \n",
       "0           gapi   0.3818  \n",
       "1           gapi  -0.4019  \n",
       "2           gapi   0.7096  \n",
       "3           gapi   -0.296  \n",
       "4           gapi   0.5423  \n",
       "...          ...      ...  \n",
       "25943  stocknews  -0.7351  \n",
       "25944  stocknews  -0.2263  \n",
       "25945  stocknews        0  \n",
       "25946  stocknews   0.7845  \n",
       "25947  stocknews  -0.6124  \n",
       "\n",
       "[25948 rows x 4 columns]"
      ]
     },
     "execution_count": 14,
     "metadata": {},
     "output_type": "execute_result"
    }
   ],
   "source": [
    "articles_df"
   ]
  },
  {
   "cell_type": "markdown",
   "metadata": {},
   "source": [
    "### Calculating Mean Compound and Adding Other Machine Learning Features"
   ]
  },
  {
   "cell_type": "code",
   "execution_count": 15,
   "metadata": {},
   "outputs": [],
   "source": [
    "import datetime\n",
    "new_features_df = features_df.copy()\n",
    "new_features_df.drop(columns=['daily_returns_tlt','daily_returns_tlt_volume','daily_returns_tsla','daily_returns_tsla_volume'],inplace=True)\n",
    "new_features_df.index = pd.to_datetime(new_features_df.index)\n",
    "\n",
    "new_features_df = features_df.shift(1)\n",
    "new_features_df['target'] = features_df['target']\n",
    "\n",
    "\n",
    "i = 0\n",
    "for date in new_features_df.index:\n",
    "    start_date = date - pd.to_timedelta(3, unit='d')\n",
    "    \n",
    "    mask = (articles_df['date'] > start_date) & (articles_df['date'] <= date)\n",
    "   \n",
    "    count_articles = articles_df.loc[mask].count()\n",
    "    means = articles_df.loc[mask].mean()\n",
    "\n",
    "    \n",
    "    new_features_df.loc[date,'mean_compound'] = means['compound']\n",
    "    \n",
    "    new_features_df.loc[date,'daily_returns_tsla'] = features_df.loc[date,'daily_returns_tsla']\n",
    "\n",
    "    i += 1"
   ]
  },
  {
   "cell_type": "code",
   "execution_count": 16,
   "metadata": {},
   "outputs": [
    {
     "data": {
      "text/html": [
       "<div>\n",
       "<style scoped>\n",
       "    .dataframe tbody tr th:only-of-type {\n",
       "        vertical-align: middle;\n",
       "    }\n",
       "\n",
       "    .dataframe tbody tr th {\n",
       "        vertical-align: top;\n",
       "    }\n",
       "\n",
       "    .dataframe thead th {\n",
       "        text-align: right;\n",
       "    }\n",
       "</style>\n",
       "<table border=\"1\" class=\"dataframe\">\n",
       "  <thead>\n",
       "    <tr style=\"text-align: right;\">\n",
       "      <th></th>\n",
       "      <th>daily_returns_tlt</th>\n",
       "      <th>daily_returns_tlt_volume</th>\n",
       "      <th>daily_returns_tsla</th>\n",
       "      <th>daily_returns_tsla_volume</th>\n",
       "      <th>target</th>\n",
       "      <th>mean_compound</th>\n",
       "    </tr>\n",
       "  </thead>\n",
       "  <tbody>\n",
       "    <tr>\n",
       "      <th>2018-07-03</th>\n",
       "      <td>NaN</td>\n",
       "      <td>NaN</td>\n",
       "      <td>-0.072060</td>\n",
       "      <td>NaN</td>\n",
       "      <td>0</td>\n",
       "      <td>-0.016740</td>\n",
       "    </tr>\n",
       "    <tr>\n",
       "      <th>2018-07-05</th>\n",
       "      <td>0.005109</td>\n",
       "      <td>-0.625701</td>\n",
       "      <td>-0.005836</td>\n",
       "      <td>-0.356887</td>\n",
       "      <td>0</td>\n",
       "      <td>-0.450450</td>\n",
       "    </tr>\n",
       "    <tr>\n",
       "      <th>2018-07-06</th>\n",
       "      <td>0.002869</td>\n",
       "      <td>0.044150</td>\n",
       "      <td>-0.000647</td>\n",
       "      <td>0.456280</td>\n",
       "      <td>0</td>\n",
       "      <td>-0.423822</td>\n",
       "    </tr>\n",
       "    <tr>\n",
       "      <th>2018-07-09</th>\n",
       "      <td>0.003106</td>\n",
       "      <td>0.199468</td>\n",
       "      <td>0.030365</td>\n",
       "      <td>-0.492655</td>\n",
       "      <td>1</td>\n",
       "      <td>0.122037</td>\n",
       "    </tr>\n",
       "    <tr>\n",
       "      <th>2018-07-10</th>\n",
       "      <td>-0.006112</td>\n",
       "      <td>0.201659</td>\n",
       "      <td>0.012818</td>\n",
       "      <td>-0.190807</td>\n",
       "      <td>1</td>\n",
       "      <td>0.097726</td>\n",
       "    </tr>\n",
       "  </tbody>\n",
       "</table>\n",
       "</div>"
      ],
      "text/plain": [
       "            daily_returns_tlt  daily_returns_tlt_volume  daily_returns_tsla  \\\n",
       "2018-07-03                NaN                       NaN           -0.072060   \n",
       "2018-07-05           0.005109                 -0.625701           -0.005836   \n",
       "2018-07-06           0.002869                  0.044150           -0.000647   \n",
       "2018-07-09           0.003106                  0.199468            0.030365   \n",
       "2018-07-10          -0.006112                  0.201659            0.012818   \n",
       "\n",
       "            daily_returns_tsla_volume  target  mean_compound  \n",
       "2018-07-03                        NaN       0      -0.016740  \n",
       "2018-07-05                  -0.356887       0      -0.450450  \n",
       "2018-07-06                   0.456280       0      -0.423822  \n",
       "2018-07-09                  -0.492655       1       0.122037  \n",
       "2018-07-10                  -0.190807       1       0.097726  "
      ]
     },
     "execution_count": 16,
     "metadata": {},
     "output_type": "execute_result"
    }
   ],
   "source": [
    "new_features_df.head()"
   ]
  },
  {
   "cell_type": "code",
   "execution_count": 17,
   "metadata": {},
   "outputs": [],
   "source": [
    "new_features_df.rename(columns={\"mean_compound\": \"gnews_&_stockapi_mean_compound\"}, inplace=True)"
   ]
  },
  {
   "cell_type": "code",
   "execution_count": 18,
   "metadata": {},
   "outputs": [],
   "source": [
    "# save results to CSV file \n",
    "new_features_df.to_csv('allapinewscompound.csv')"
   ]
  }
 ],
 "metadata": {
  "kernelspec": {
   "display_name": "Python 3",
   "language": "python",
   "name": "python3"
  },
  "language_info": {
   "codemirror_mode": {
    "name": "ipython",
    "version": 3
   },
   "file_extension": ".py",
   "mimetype": "text/x-python",
   "name": "python",
   "nbconvert_exporter": "python",
   "pygments_lexer": "ipython3",
   "version": "3.7.6"
  }
 },
 "nbformat": 4,
 "nbformat_minor": 4
}
