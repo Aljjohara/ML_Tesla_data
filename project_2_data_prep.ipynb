{
  "nbformat": 4,
  "nbformat_minor": 0,
  "metadata": {
    "colab": {
      "name": "project_2.ipynb",
      "provenance": [],
      "collapsed_sections": []
    },
    "kernelspec": {
      "name": "python3",
      "display_name": "Python 3"
    }
  },
  "cells": [
    {
      "cell_type": "code",
      "metadata": {
        "id": "6nlPKBG43aow",
        "colab_type": "code",
        "colab": {
          "base_uri": "https://localhost:8080/",
          "height": 956
        },
        "outputId": "7dd75085-cffa-410a-8e8c-0c0a97a13c0f"
      },
      "source": [
        "!pip install alpaca-trade-api"
      ],
      "execution_count": null,
      "outputs": [
        {
          "output_type": "stream",
          "text": [
            "Collecting alpaca-trade-api\n",
            "  Downloading https://files.pythonhosted.org/packages/f0/43/f54af2b0f39c208724b298c4378c735da86b862d839bf4e0964ec4306ebc/alpaca_trade_api-0.48-py3-none-any.whl\n",
            "Collecting websockets>=8.0\n",
            "\u001b[?25l  Downloading https://files.pythonhosted.org/packages/bb/d9/856af84843912e2853b1b6e898ac8b802989fcf9ecf8e8445a1da263bf3b/websockets-8.1-cp36-cp36m-manylinux2010_x86_64.whl (78kB)\n",
            "\u001b[K     |████████████████████████████████| 81kB 3.2MB/s \n",
            "\u001b[?25hCollecting asyncio-nats-client\n",
            "  Downloading https://files.pythonhosted.org/packages/0a/10/2514910976d92a970fe3889ff29bbfff3613d942d90cd9f300ddd0b5fe4c/asyncio-nats-client-0.10.0.tar.gz\n",
            "Requirement already satisfied: urllib3<1.25 in /usr/local/lib/python3.6/dist-packages (from alpaca-trade-api) (1.24.3)\n",
            "Collecting websocket-client\n",
            "\u001b[?25l  Downloading https://files.pythonhosted.org/packages/4c/5f/f61b420143ed1c8dc69f9eaec5ff1ac36109d52c80de49d66e0c36c3dfdf/websocket_client-0.57.0-py2.py3-none-any.whl (200kB)\n",
            "\u001b[K     |████████████████████████████████| 204kB 19.0MB/s \n",
            "\u001b[?25hCollecting deprecated\n",
            "  Downloading https://files.pythonhosted.org/packages/76/a1/05d7f62f956d77b23a640efc650f80ce24483aa2f85a09c03fb64f49e879/Deprecated-1.2.10-py2.py3-none-any.whl\n",
            "Collecting alpha-vantage\n",
            "  Downloading https://files.pythonhosted.org/packages/12/e3/72ec32d859a363c2eebaa42e0d4abb5ac7172a7a77a2307576ceb5fc1b42/alpha_vantage-2.2.0.tar.gz\n",
            "Requirement already satisfied: requests in /usr/local/lib/python3.6/dist-packages (from alpaca-trade-api) (2.23.0)\n",
            "Requirement already satisfied: pandas in /usr/local/lib/python3.6/dist-packages (from alpaca-trade-api) (1.0.5)\n",
            "Requirement already satisfied: six in /usr/local/lib/python3.6/dist-packages (from websocket-client->alpaca-trade-api) (1.12.0)\n",
            "Requirement already satisfied: wrapt<2,>=1.10 in /usr/local/lib/python3.6/dist-packages (from deprecated->alpaca-trade-api) (1.12.1)\n",
            "Collecting aiohttp\n",
            "\u001b[?25l  Downloading https://files.pythonhosted.org/packages/7c/39/7eb5f98d24904e0f6d3edb505d4aa60e3ef83c0a58d6fe18244a51757247/aiohttp-3.6.2-cp36-cp36m-manylinux1_x86_64.whl (1.2MB)\n",
            "\u001b[K     |████████████████████████████████| 1.2MB 44.6MB/s \n",
            "\u001b[?25hRequirement already satisfied: idna<3,>=2.5 in /usr/local/lib/python3.6/dist-packages (from requests->alpaca-trade-api) (2.10)\n",
            "Requirement already satisfied: chardet<4,>=3.0.2 in /usr/local/lib/python3.6/dist-packages (from requests->alpaca-trade-api) (3.0.4)\n",
            "Requirement already satisfied: certifi>=2017.4.17 in /usr/local/lib/python3.6/dist-packages (from requests->alpaca-trade-api) (2020.6.20)\n",
            "Requirement already satisfied: numpy>=1.13.3 in /usr/local/lib/python3.6/dist-packages (from pandas->alpaca-trade-api) (1.18.5)\n",
            "Requirement already satisfied: pytz>=2017.2 in /usr/local/lib/python3.6/dist-packages (from pandas->alpaca-trade-api) (2018.9)\n",
            "Requirement already satisfied: python-dateutil>=2.6.1 in /usr/local/lib/python3.6/dist-packages (from pandas->alpaca-trade-api) (2.8.1)\n",
            "Collecting async-timeout<4.0,>=3.0\n",
            "  Downloading https://files.pythonhosted.org/packages/e1/1e/5a4441be21b0726c4464f3f23c8b19628372f606755a9d2e46c187e65ec4/async_timeout-3.0.1-py3-none-any.whl\n",
            "Requirement already satisfied: typing-extensions>=3.6.5; python_version < \"3.7\" in /usr/local/lib/python3.6/dist-packages (from aiohttp->alpha-vantage->alpaca-trade-api) (3.7.4.2)\n",
            "Collecting yarl<2.0,>=1.0\n",
            "\u001b[?25l  Downloading https://files.pythonhosted.org/packages/95/8f/0209fc5d975f839344c33c822ff2f7ef80f6b1e984673a5a68f960bfa583/yarl-1.4.2-cp36-cp36m-manylinux1_x86_64.whl (252kB)\n",
            "\u001b[K     |████████████████████████████████| 256kB 47.0MB/s \n",
            "\u001b[?25hCollecting multidict<5.0,>=4.5\n",
            "\u001b[?25l  Downloading https://files.pythonhosted.org/packages/1a/95/f50352b5366e7d579e8b99631680a9e32e1b22adfa1629a8f23b1d22d5e2/multidict-4.7.6-cp36-cp36m-manylinux1_x86_64.whl (148kB)\n",
            "\u001b[K     |████████████████████████████████| 153kB 43.3MB/s \n",
            "\u001b[?25hCollecting idna-ssl>=1.0; python_version < \"3.7\"\n",
            "  Downloading https://files.pythonhosted.org/packages/46/03/07c4894aae38b0de52b52586b24bf189bb83e4ddabfe2e2c8f2419eec6f4/idna-ssl-1.1.0.tar.gz\n",
            "Requirement already satisfied: attrs>=17.3.0 in /usr/local/lib/python3.6/dist-packages (from aiohttp->alpha-vantage->alpaca-trade-api) (19.3.0)\n",
            "Building wheels for collected packages: asyncio-nats-client, alpha-vantage, idna-ssl\n",
            "  Building wheel for asyncio-nats-client (setup.py) ... \u001b[?25l\u001b[?25hdone\n",
            "  Created wheel for asyncio-nats-client: filename=asyncio_nats_client-0.10.0-cp36-none-any.whl size=21612 sha256=8446cc85c11a2c7694467f472a9c1083fec25188281b9c3c4018a9fed869ddbd\n",
            "  Stored in directory: /root/.cache/pip/wheels/21/41/ba/99c64794c44114bce891c814c6e242a152340c978c5907a82b\n",
            "  Building wheel for alpha-vantage (setup.py) ... \u001b[?25l\u001b[?25hdone\n",
            "  Created wheel for alpha-vantage: filename=alpha_vantage-2.2.0-cp36-none-any.whl size=25705 sha256=b65519b25c8ff99bbd74c0b297e51a11fa7a06e52449a59273a8d8f00d023fdf\n",
            "  Stored in directory: /root/.cache/pip/wheels/3a/fa/05/80b0afcbd2a4de8bd2a0c5cd77084e3d3a9cc12c48be9b7f84\n",
            "  Building wheel for idna-ssl (setup.py) ... \u001b[?25l\u001b[?25hdone\n",
            "  Created wheel for idna-ssl: filename=idna_ssl-1.1.0-cp36-none-any.whl size=3162 sha256=9d4a75cc901fd3ac38bec02e1ca9ae466d1b38d78c911d5ef00f67e5302b8649\n",
            "  Stored in directory: /root/.cache/pip/wheels/d3/00/b3/32d613e19e08a739751dd6bf998cfed277728f8b2127ad4eb7\n",
            "Successfully built asyncio-nats-client alpha-vantage idna-ssl\n",
            "Installing collected packages: websockets, asyncio-nats-client, websocket-client, deprecated, async-timeout, multidict, yarl, idna-ssl, aiohttp, alpha-vantage, alpaca-trade-api\n",
            "Successfully installed aiohttp-3.6.2 alpaca-trade-api-0.48 alpha-vantage-2.2.0 async-timeout-3.0.1 asyncio-nats-client-0.10.0 deprecated-1.2.10 idna-ssl-1.1.0 multidict-4.7.6 websocket-client-0.57.0 websockets-8.1 yarl-1.4.2\n"
          ],
          "name": "stdout"
        }
      ]
    },
    {
      "cell_type": "code",
      "metadata": {
        "id": "GBv13fvx4Umu",
        "colab_type": "code",
        "colab": {
          "base_uri": "https://localhost:8080/",
          "height": 35
        },
        "outputId": "c1d1ab5b-453a-4e32-e774-c6dea4e6b84b"
      },
      "source": [
        "!pip install colab-env -qU\n"
      ],
      "execution_count": null,
      "outputs": [
        {
          "output_type": "stream",
          "text": [
            "  Building wheel for colab-env (setup.py) ... \u001b[?25l\u001b[?25hdone\n"
          ],
          "name": "stdout"
        }
      ]
    },
    {
      "cell_type": "code",
      "metadata": {
        "id": "0qr7JYUFYNPv",
        "colab_type": "code",
        "colab": {
          "base_uri": "https://localhost:8080/",
          "height": 104
        },
        "outputId": "df48ad70-6aea-4c8a-abe4-cd53f861d521"
      },
      "source": [
        "pip install requests"
      ],
      "execution_count": null,
      "outputs": [
        {
          "output_type": "stream",
          "text": [
            "Requirement already satisfied: requests in /usr/local/lib/python3.6/dist-packages (2.23.0)\n",
            "Requirement already satisfied: chardet<4,>=3.0.2 in /usr/local/lib/python3.6/dist-packages (from requests) (3.0.4)\n",
            "Requirement already satisfied: idna<3,>=2.5 in /usr/local/lib/python3.6/dist-packages (from requests) (2.10)\n",
            "Requirement already satisfied: urllib3!=1.25.0,!=1.25.1,<1.26,>=1.21.1 in /usr/local/lib/python3.6/dist-packages (from requests) (1.24.3)\n",
            "Requirement already satisfied: certifi>=2017.4.17 in /usr/local/lib/python3.6/dist-packages (from requests) (2020.6.20)\n"
          ],
          "name": "stdout"
        }
      ]
    },
    {
      "cell_type": "code",
      "metadata": {
        "id": "c1yNQW0dIafn",
        "colab_type": "code",
        "colab": {
          "base_uri": "https://localhost:8080/",
          "height": 35
        },
        "outputId": "57e3c280-ebb8-4e1f-d709-5f9e1052bc11"
      },
      "source": [
        "pip install -U python-dotenv"
      ],
      "execution_count": null,
      "outputs": [
        {
          "output_type": "stream",
          "text": [
            "Requirement already up-to-date: python-dotenv in /usr/local/lib/python3.6/dist-packages (0.14.0)\n"
          ],
          "name": "stdout"
        }
      ]
    },
    {
      "cell_type": "code",
      "metadata": {
        "id": "DMssL2vK_GVK",
        "colab_type": "code",
        "colab": {
          "base_uri": "https://localhost:8080/",
          "height": 141
        },
        "outputId": "5e59ec69-189c-42b5-f85a-12bd4e510402"
      },
      "source": [
        "import numpy as np\n",
        "import pandas as pd\n",
        "import os\n",
        "from datetime import datetime, timedelta\n",
        "import matplotlib.pyplot as plt\n",
        "import alpaca_trade_api as tradeapi\n",
        "%matplotlib inline\n",
        "from statistics import mean \n",
        "from dotenv import load_dotenv\n",
        "import json\n",
        "import requests\n",
        "import colab_env\n",
        "load_dotenv()"
      ],
      "execution_count": null,
      "outputs": [
        {
          "output_type": "stream",
          "text": [
            "Go to this URL in a browser: https://accounts.google.com/o/oauth2/auth?client_id=947318989803-6bn6qk8qdgf4n4g3pfee6491hc0brc4i.apps.googleusercontent.com&redirect_uri=urn%3aietf%3awg%3aoauth%3a2.0%3aoob&response_type=code&scope=email%20https%3a%2f%2fwww.googleapis.com%2fauth%2fdocs.test%20https%3a%2f%2fwww.googleapis.com%2fauth%2fdrive%20https%3a%2f%2fwww.googleapis.com%2fauth%2fdrive.photos.readonly%20https%3a%2f%2fwww.googleapis.com%2fauth%2fpeopleapi.readonly\n",
            "\n",
            "Enter your authorization code:\n",
            "··········\n",
            "Mounted at /content/gdrive\n"
          ],
          "name": "stdout"
        },
        {
          "output_type": "execute_result",
          "data": {
            "text/plain": [
              "True"
            ]
          },
          "metadata": {
            "tags": []
          },
          "execution_count": 6
        }
      ]
    },
    {
      "cell_type": "code",
      "metadata": {
        "id": "z4whAFG827kj",
        "colab_type": "code",
        "colab": {}
      },
      "source": [
        "\n",
        "# Set Alpaca API key and secret\n",
        "alpaca_api_key = os.getenv(\"ALPACA_API_KEY\")\n",
        "alpaca_secret_key = os.getenv(\"ALPACA_SECRET_KEY\")\n",
        "type(alpaca_api_key)\n",
        "api = tradeapi.REST(alpaca_api_key, alpaca_secret_key, api_version='v2')\n",
        "# Get all Asstes\n",
        "assets = api.list_assets()\n",
        "\n",
        "# Keep only tradeable assets\n",
        "tradeable = [asset for asset in assets if asset.tradable ]"
      ],
      "execution_count": null,
      "outputs": []
    },
    {
      "cell_type": "code",
      "metadata": {
        "id": "1fViw39r3P0g",
        "colab_type": "code",
        "colab": {
          "base_uri": "https://localhost:8080/",
          "height": 233
        },
        "outputId": "5b9087e8-87d7-4e79-ac39-aa2debfec97b"
      },
      "source": [
        "# Set the ticker\n",
        "ticker = \"TSLA\"\n",
        "\n",
        "# Set timeframe to '1D'\n",
        "timeframe = '1D'\n",
        "\n",
        "# Set start and end datetimes of 1 year, between now and 365 days ago.\n",
        "start_date = pd.Timestamp('2018-07-01', tz='America/New_York').isoformat()\n",
        "end_date = pd.Timestamp('2020-07-05', tz='America/New_York').isoformat()\n",
        "\n",
        "# Get 1 year's worth of historical data for TSLA\n",
        "df = api.get_barset(\n",
        "    ticker,\n",
        "    timeframe,\n",
        "    limit=None,\n",
        "    start=start_date,\n",
        "    end=end_date,\n",
        "    after=None,\n",
        "    until=None,\n",
        ").df\n",
        "\n",
        "df.head()"
      ],
      "execution_count": null,
      "outputs": [
        {
          "output_type": "execute_result",
          "data": {
            "text/html": [
              "<div>\n",
              "<style scoped>\n",
              "    .dataframe tbody tr th:only-of-type {\n",
              "        vertical-align: middle;\n",
              "    }\n",
              "\n",
              "    .dataframe tbody tr th {\n",
              "        vertical-align: top;\n",
              "    }\n",
              "\n",
              "    .dataframe thead tr th {\n",
              "        text-align: left;\n",
              "    }\n",
              "</style>\n",
              "<table border=\"1\" class=\"dataframe\">\n",
              "  <thead>\n",
              "    <tr>\n",
              "      <th></th>\n",
              "      <th colspan=\"5\" halign=\"left\">TSLA</th>\n",
              "    </tr>\n",
              "    <tr>\n",
              "      <th></th>\n",
              "      <th>open</th>\n",
              "      <th>high</th>\n",
              "      <th>low</th>\n",
              "      <th>close</th>\n",
              "      <th>volume</th>\n",
              "    </tr>\n",
              "  </thead>\n",
              "  <tbody>\n",
              "    <tr>\n",
              "      <th>2018-07-02 00:00:00-04:00</th>\n",
              "      <td>360.2800</td>\n",
              "      <td>364.78</td>\n",
              "      <td>329.85</td>\n",
              "      <td>335.0700</td>\n",
              "      <td>14936701</td>\n",
              "    </tr>\n",
              "    <tr>\n",
              "      <th>2018-07-03 00:00:00-04:00</th>\n",
              "      <td>331.9100</td>\n",
              "      <td>332.49</td>\n",
              "      <td>309.69</td>\n",
              "      <td>310.9247</td>\n",
              "      <td>9605990</td>\n",
              "    </tr>\n",
              "    <tr>\n",
              "      <th>2018-07-05 00:00:00-04:00</th>\n",
              "      <td>313.7600</td>\n",
              "      <td>314.39</td>\n",
              "      <td>296.22</td>\n",
              "      <td>309.1100</td>\n",
              "      <td>13989015</td>\n",
              "    </tr>\n",
              "    <tr>\n",
              "      <th>2018-07-06 00:00:00-04:00</th>\n",
              "      <td>304.9545</td>\n",
              "      <td>312.07</td>\n",
              "      <td>302.00</td>\n",
              "      <td>308.9100</td>\n",
              "      <td>7097253</td>\n",
              "    </tr>\n",
              "    <tr>\n",
              "      <th>2018-07-09 00:00:00-04:00</th>\n",
              "      <td>311.8553</td>\n",
              "      <td>318.52</td>\n",
              "      <td>308.00</td>\n",
              "      <td>318.2900</td>\n",
              "      <td>5743049</td>\n",
              "    </tr>\n",
              "  </tbody>\n",
              "</table>\n",
              "</div>"
            ],
            "text/plain": [
              "                               TSLA                                    \n",
              "                               open    high     low     close    volume\n",
              "2018-07-02 00:00:00-04:00  360.2800  364.78  329.85  335.0700  14936701\n",
              "2018-07-03 00:00:00-04:00  331.9100  332.49  309.69  310.9247   9605990\n",
              "2018-07-05 00:00:00-04:00  313.7600  314.39  296.22  309.1100  13989015\n",
              "2018-07-06 00:00:00-04:00  304.9545  312.07  302.00  308.9100   7097253\n",
              "2018-07-09 00:00:00-04:00  311.8553  318.52  308.00  318.2900   5743049"
            ]
          },
          "metadata": {
            "tags": []
          },
          "execution_count": 73
        }
      ]
    },
    {
      "cell_type": "code",
      "metadata": {
        "id": "gLuMZPW73UeA",
        "colab_type": "code",
        "colab": {
          "base_uri": "https://localhost:8080/",
          "height": 202
        },
        "outputId": "8fb5694b-47e8-46e9-dbad-2bb6fe17c745"
      },
      "source": [
        "# Drop Outer Table Level\n",
        "df = df.droplevel(axis=1, level=0)\n",
        "\n",
        "# Use the drop function to drop extra columns\n",
        "df.drop(columns=['open', 'high', 'low'], inplace=True)\n",
        "\n",
        "# Since this is daily data, we can keep only the date (remove the time) component of the data\n",
        "df.index = df.index.date\n",
        "\n",
        "df.head()"
      ],
      "execution_count": null,
      "outputs": [
        {
          "output_type": "execute_result",
          "data": {
            "text/html": [
              "<div>\n",
              "<style scoped>\n",
              "    .dataframe tbody tr th:only-of-type {\n",
              "        vertical-align: middle;\n",
              "    }\n",
              "\n",
              "    .dataframe tbody tr th {\n",
              "        vertical-align: top;\n",
              "    }\n",
              "\n",
              "    .dataframe thead th {\n",
              "        text-align: right;\n",
              "    }\n",
              "</style>\n",
              "<table border=\"1\" class=\"dataframe\">\n",
              "  <thead>\n",
              "    <tr style=\"text-align: right;\">\n",
              "      <th></th>\n",
              "      <th>close</th>\n",
              "      <th>volume</th>\n",
              "    </tr>\n",
              "  </thead>\n",
              "  <tbody>\n",
              "    <tr>\n",
              "      <th>2018-07-02</th>\n",
              "      <td>335.0700</td>\n",
              "      <td>14936701</td>\n",
              "    </tr>\n",
              "    <tr>\n",
              "      <th>2018-07-03</th>\n",
              "      <td>310.9247</td>\n",
              "      <td>9605990</td>\n",
              "    </tr>\n",
              "    <tr>\n",
              "      <th>2018-07-05</th>\n",
              "      <td>309.1100</td>\n",
              "      <td>13989015</td>\n",
              "    </tr>\n",
              "    <tr>\n",
              "      <th>2018-07-06</th>\n",
              "      <td>308.9100</td>\n",
              "      <td>7097253</td>\n",
              "    </tr>\n",
              "    <tr>\n",
              "      <th>2018-07-09</th>\n",
              "      <td>318.2900</td>\n",
              "      <td>5743049</td>\n",
              "    </tr>\n",
              "  </tbody>\n",
              "</table>\n",
              "</div>"
            ],
            "text/plain": [
              "               close    volume\n",
              "2018-07-02  335.0700  14936701\n",
              "2018-07-03  310.9247   9605990\n",
              "2018-07-05  309.1100  13989015\n",
              "2018-07-06  308.9100   7097253\n",
              "2018-07-09  318.2900   5743049"
            ]
          },
          "metadata": {
            "tags": []
          },
          "execution_count": 74
        }
      ]
    },
    {
      "cell_type": "code",
      "metadata": {
        "id": "5-PAxHoQ-caS",
        "colab_type": "code",
        "colab": {
          "base_uri": "https://localhost:8080/",
          "height": 202
        },
        "outputId": "b3c3a9cf-c871-46c4-c951-4538466aa607"
      },
      "source": [
        "\n",
        "df['daily_returns_tsla']=df['close'].pct_change()\n",
        "df['daily_returns_tsla_volume']=df['volume'].pct_change()\n",
        "df.dropna(inplace=True)\n",
        "df.drop(columns=['close', 'volume'], inplace=True)\n",
        "df.head()"
      ],
      "execution_count": null,
      "outputs": [
        {
          "output_type": "execute_result",
          "data": {
            "text/html": [
              "<div>\n",
              "<style scoped>\n",
              "    .dataframe tbody tr th:only-of-type {\n",
              "        vertical-align: middle;\n",
              "    }\n",
              "\n",
              "    .dataframe tbody tr th {\n",
              "        vertical-align: top;\n",
              "    }\n",
              "\n",
              "    .dataframe thead th {\n",
              "        text-align: right;\n",
              "    }\n",
              "</style>\n",
              "<table border=\"1\" class=\"dataframe\">\n",
              "  <thead>\n",
              "    <tr style=\"text-align: right;\">\n",
              "      <th></th>\n",
              "      <th>daily_returns_tsla</th>\n",
              "      <th>daily_returns_tsla_volume</th>\n",
              "    </tr>\n",
              "  </thead>\n",
              "  <tbody>\n",
              "    <tr>\n",
              "      <th>2018-07-03</th>\n",
              "      <td>-0.072060</td>\n",
              "      <td>-0.356887</td>\n",
              "    </tr>\n",
              "    <tr>\n",
              "      <th>2018-07-05</th>\n",
              "      <td>-0.005836</td>\n",
              "      <td>0.456280</td>\n",
              "    </tr>\n",
              "    <tr>\n",
              "      <th>2018-07-06</th>\n",
              "      <td>-0.000647</td>\n",
              "      <td>-0.492655</td>\n",
              "    </tr>\n",
              "    <tr>\n",
              "      <th>2018-07-09</th>\n",
              "      <td>0.030365</td>\n",
              "      <td>-0.190807</td>\n",
              "    </tr>\n",
              "    <tr>\n",
              "      <th>2018-07-10</th>\n",
              "      <td>0.012818</td>\n",
              "      <td>0.236055</td>\n",
              "    </tr>\n",
              "  </tbody>\n",
              "</table>\n",
              "</div>"
            ],
            "text/plain": [
              "            daily_returns_tsla  daily_returns_tsla_volume\n",
              "2018-07-03           -0.072060                  -0.356887\n",
              "2018-07-05           -0.005836                   0.456280\n",
              "2018-07-06           -0.000647                  -0.492655\n",
              "2018-07-09            0.030365                  -0.190807\n",
              "2018-07-10            0.012818                   0.236055"
            ]
          },
          "metadata": {
            "tags": []
          },
          "execution_count": 75
        }
      ]
    },
    {
      "cell_type": "code",
      "metadata": {
        "id": "SEpWvUJfEDyv",
        "colab_type": "code",
        "colab": {
          "base_uri": "https://localhost:8080/",
          "height": 233
        },
        "outputId": "9d882cc5-abed-477b-e90a-bd5a59bccbb3"
      },
      "source": [
        "ticker = \"TLT\"\n",
        "\n",
        "# Set timeframe to '1D'\n",
        "timeframe = '1D'\n",
        "\n",
        "# Set start and end datetimes of 1 year, between now and 365 days ago.\n",
        "start_date = pd.Timestamp('2018-07-01', tz='America/New_York').isoformat()\n",
        "end_date = pd.Timestamp('2020-07-05', tz='America/New_York').isoformat()\n",
        "\n",
        "\n",
        "# Get 1 year's worth of historical data for TSLA\n",
        "df_tlt = api.get_barset(\n",
        "    ticker,\n",
        "    timeframe,\n",
        "    limit=None,\n",
        "    start=start_date,\n",
        "    end=end_date,\n",
        "    after=None,\n",
        "    until=None,\n",
        ").df\n",
        "\n",
        "df_tlt.head()"
      ],
      "execution_count": null,
      "outputs": [
        {
          "output_type": "execute_result",
          "data": {
            "text/html": [
              "<div>\n",
              "<style scoped>\n",
              "    .dataframe tbody tr th:only-of-type {\n",
              "        vertical-align: middle;\n",
              "    }\n",
              "\n",
              "    .dataframe tbody tr th {\n",
              "        vertical-align: top;\n",
              "    }\n",
              "\n",
              "    .dataframe thead tr th {\n",
              "        text-align: left;\n",
              "    }\n",
              "</style>\n",
              "<table border=\"1\" class=\"dataframe\">\n",
              "  <thead>\n",
              "    <tr>\n",
              "      <th></th>\n",
              "      <th colspan=\"5\" halign=\"left\">TLT</th>\n",
              "    </tr>\n",
              "    <tr>\n",
              "      <th></th>\n",
              "      <th>open</th>\n",
              "      <th>high</th>\n",
              "      <th>low</th>\n",
              "      <th>close</th>\n",
              "      <th>volume</th>\n",
              "    </tr>\n",
              "  </thead>\n",
              "  <tbody>\n",
              "    <tr>\n",
              "      <th>2018-07-02 00:00:00-04:00</th>\n",
              "      <td>121.74</td>\n",
              "      <td>121.75</td>\n",
              "      <td>121.2901</td>\n",
              "      <td>121.36</td>\n",
              "      <td>8247467</td>\n",
              "    </tr>\n",
              "    <tr>\n",
              "      <th>2018-07-03 00:00:00-04:00</th>\n",
              "      <td>121.53</td>\n",
              "      <td>122.03</td>\n",
              "      <td>121.5300</td>\n",
              "      <td>121.98</td>\n",
              "      <td>3087020</td>\n",
              "    </tr>\n",
              "    <tr>\n",
              "      <th>2018-07-05 00:00:00-04:00</th>\n",
              "      <td>122.06</td>\n",
              "      <td>122.53</td>\n",
              "      <td>122.0100</td>\n",
              "      <td>122.33</td>\n",
              "      <td>3223311</td>\n",
              "    </tr>\n",
              "    <tr>\n",
              "      <th>2018-07-06 00:00:00-04:00</th>\n",
              "      <td>122.75</td>\n",
              "      <td>122.92</td>\n",
              "      <td>122.4800</td>\n",
              "      <td>122.71</td>\n",
              "      <td>3866259</td>\n",
              "    </tr>\n",
              "    <tr>\n",
              "      <th>2018-07-09 00:00:00-04:00</th>\n",
              "      <td>122.05</td>\n",
              "      <td>122.21</td>\n",
              "      <td>121.9000</td>\n",
              "      <td>121.96</td>\n",
              "      <td>4645923</td>\n",
              "    </tr>\n",
              "  </tbody>\n",
              "</table>\n",
              "</div>"
            ],
            "text/plain": [
              "                              TLT                                   \n",
              "                             open    high       low   close   volume\n",
              "2018-07-02 00:00:00-04:00  121.74  121.75  121.2901  121.36  8247467\n",
              "2018-07-03 00:00:00-04:00  121.53  122.03  121.5300  121.98  3087020\n",
              "2018-07-05 00:00:00-04:00  122.06  122.53  122.0100  122.33  3223311\n",
              "2018-07-06 00:00:00-04:00  122.75  122.92  122.4800  122.71  3866259\n",
              "2018-07-09 00:00:00-04:00  122.05  122.21  121.9000  121.96  4645923"
            ]
          },
          "metadata": {
            "tags": []
          },
          "execution_count": 76
        }
      ]
    },
    {
      "cell_type": "code",
      "metadata": {
        "id": "o-gIwl2nKS9A",
        "colab_type": "code",
        "colab": {
          "base_uri": "https://localhost:8080/",
          "height": 202
        },
        "outputId": "de798df7-b658-4fc5-9d87-5b528605ef28"
      },
      "source": [
        "df_tlt = df_tlt.droplevel(axis=1, level=0)\n",
        "\n",
        "# Use the drop function to drop extra columns\n",
        "df_tlt.drop(columns=['open', 'high', 'low'], inplace=True)\n",
        "\n",
        "# Since this is daily data, we can keep only the date (remove the time) component of the data\n",
        "df_tlt.index = df_tlt.index.date\n",
        "\n",
        "df_tlt.head()"
      ],
      "execution_count": null,
      "outputs": [
        {
          "output_type": "execute_result",
          "data": {
            "text/html": [
              "<div>\n",
              "<style scoped>\n",
              "    .dataframe tbody tr th:only-of-type {\n",
              "        vertical-align: middle;\n",
              "    }\n",
              "\n",
              "    .dataframe tbody tr th {\n",
              "        vertical-align: top;\n",
              "    }\n",
              "\n",
              "    .dataframe thead th {\n",
              "        text-align: right;\n",
              "    }\n",
              "</style>\n",
              "<table border=\"1\" class=\"dataframe\">\n",
              "  <thead>\n",
              "    <tr style=\"text-align: right;\">\n",
              "      <th></th>\n",
              "      <th>close</th>\n",
              "      <th>volume</th>\n",
              "    </tr>\n",
              "  </thead>\n",
              "  <tbody>\n",
              "    <tr>\n",
              "      <th>2018-07-02</th>\n",
              "      <td>121.36</td>\n",
              "      <td>8247467</td>\n",
              "    </tr>\n",
              "    <tr>\n",
              "      <th>2018-07-03</th>\n",
              "      <td>121.98</td>\n",
              "      <td>3087020</td>\n",
              "    </tr>\n",
              "    <tr>\n",
              "      <th>2018-07-05</th>\n",
              "      <td>122.33</td>\n",
              "      <td>3223311</td>\n",
              "    </tr>\n",
              "    <tr>\n",
              "      <th>2018-07-06</th>\n",
              "      <td>122.71</td>\n",
              "      <td>3866259</td>\n",
              "    </tr>\n",
              "    <tr>\n",
              "      <th>2018-07-09</th>\n",
              "      <td>121.96</td>\n",
              "      <td>4645923</td>\n",
              "    </tr>\n",
              "  </tbody>\n",
              "</table>\n",
              "</div>"
            ],
            "text/plain": [
              "             close   volume\n",
              "2018-07-02  121.36  8247467\n",
              "2018-07-03  121.98  3087020\n",
              "2018-07-05  122.33  3223311\n",
              "2018-07-06  122.71  3866259\n",
              "2018-07-09  121.96  4645923"
            ]
          },
          "metadata": {
            "tags": []
          },
          "execution_count": 77
        }
      ]
    },
    {
      "cell_type": "code",
      "metadata": {
        "id": "HUAR8V7MKuEP",
        "colab_type": "code",
        "colab": {
          "base_uri": "https://localhost:8080/",
          "height": 202
        },
        "outputId": "edeafc7f-9437-4b3a-a978-24e1650f6c43"
      },
      "source": [
        "df_tlt['daily_returns_tlt']=df_tlt['close'].pct_change()\n",
        "df_tlt['daily_returns_tlt_volume']=df_tlt['volume'].pct_change()\n",
        "df_tlt.drop(columns=['close', 'volume'], inplace=True)\n",
        "df_tlt.dropna(inplace=True)\n",
        "df_tlt.head()"
      ],
      "execution_count": null,
      "outputs": [
        {
          "output_type": "execute_result",
          "data": {
            "text/html": [
              "<div>\n",
              "<style scoped>\n",
              "    .dataframe tbody tr th:only-of-type {\n",
              "        vertical-align: middle;\n",
              "    }\n",
              "\n",
              "    .dataframe tbody tr th {\n",
              "        vertical-align: top;\n",
              "    }\n",
              "\n",
              "    .dataframe thead th {\n",
              "        text-align: right;\n",
              "    }\n",
              "</style>\n",
              "<table border=\"1\" class=\"dataframe\">\n",
              "  <thead>\n",
              "    <tr style=\"text-align: right;\">\n",
              "      <th></th>\n",
              "      <th>daily_returns_tlt</th>\n",
              "      <th>daily_returns_tlt_volume</th>\n",
              "    </tr>\n",
              "  </thead>\n",
              "  <tbody>\n",
              "    <tr>\n",
              "      <th>2018-07-03</th>\n",
              "      <td>0.005109</td>\n",
              "      <td>-0.625701</td>\n",
              "    </tr>\n",
              "    <tr>\n",
              "      <th>2018-07-05</th>\n",
              "      <td>0.002869</td>\n",
              "      <td>0.044150</td>\n",
              "    </tr>\n",
              "    <tr>\n",
              "      <th>2018-07-06</th>\n",
              "      <td>0.003106</td>\n",
              "      <td>0.199468</td>\n",
              "    </tr>\n",
              "    <tr>\n",
              "      <th>2018-07-09</th>\n",
              "      <td>-0.006112</td>\n",
              "      <td>0.201659</td>\n",
              "    </tr>\n",
              "    <tr>\n",
              "      <th>2018-07-10</th>\n",
              "      <td>-0.000082</td>\n",
              "      <td>-0.079239</td>\n",
              "    </tr>\n",
              "  </tbody>\n",
              "</table>\n",
              "</div>"
            ],
            "text/plain": [
              "            daily_returns_tlt  daily_returns_tlt_volume\n",
              "2018-07-03           0.005109                 -0.625701\n",
              "2018-07-05           0.002869                  0.044150\n",
              "2018-07-06           0.003106                  0.199468\n",
              "2018-07-09          -0.006112                  0.201659\n",
              "2018-07-10          -0.000082                 -0.079239"
            ]
          },
          "metadata": {
            "tags": []
          },
          "execution_count": 78
        }
      ]
    },
    {
      "cell_type": "code",
      "metadata": {
        "id": "QMH_6CGcL5Di",
        "colab_type": "code",
        "colab": {
          "base_uri": "https://localhost:8080/",
          "height": 415
        },
        "outputId": "42751205-acae-479c-b5df-2f9274e80004"
      },
      "source": [
        "features_df=pd.concat([df_tlt,df],axis=1,join='inner')\n",
        "features_df.drop(df.tail(4).index,inplace=True) \n",
        "features_df"
      ],
      "execution_count": null,
      "outputs": [
        {
          "output_type": "execute_result",
          "data": {
            "text/html": [
              "<div>\n",
              "<style scoped>\n",
              "    .dataframe tbody tr th:only-of-type {\n",
              "        vertical-align: middle;\n",
              "    }\n",
              "\n",
              "    .dataframe tbody tr th {\n",
              "        vertical-align: top;\n",
              "    }\n",
              "\n",
              "    .dataframe thead th {\n",
              "        text-align: right;\n",
              "    }\n",
              "</style>\n",
              "<table border=\"1\" class=\"dataframe\">\n",
              "  <thead>\n",
              "    <tr style=\"text-align: right;\">\n",
              "      <th></th>\n",
              "      <th>daily_returns_tlt</th>\n",
              "      <th>daily_returns_tlt_volume</th>\n",
              "      <th>daily_returns_tsla</th>\n",
              "      <th>daily_returns_tsla_volume</th>\n",
              "    </tr>\n",
              "  </thead>\n",
              "  <tbody>\n",
              "    <tr>\n",
              "      <th>2018-07-03</th>\n",
              "      <td>0.005109</td>\n",
              "      <td>-0.625701</td>\n",
              "      <td>-0.072060</td>\n",
              "      <td>-0.356887</td>\n",
              "    </tr>\n",
              "    <tr>\n",
              "      <th>2018-07-05</th>\n",
              "      <td>0.002869</td>\n",
              "      <td>0.044150</td>\n",
              "      <td>-0.005836</td>\n",
              "      <td>0.456280</td>\n",
              "    </tr>\n",
              "    <tr>\n",
              "      <th>2018-07-06</th>\n",
              "      <td>0.003106</td>\n",
              "      <td>0.199468</td>\n",
              "      <td>-0.000647</td>\n",
              "      <td>-0.492655</td>\n",
              "    </tr>\n",
              "    <tr>\n",
              "      <th>2018-07-09</th>\n",
              "      <td>-0.006112</td>\n",
              "      <td>0.201659</td>\n",
              "      <td>0.030365</td>\n",
              "      <td>-0.190807</td>\n",
              "    </tr>\n",
              "    <tr>\n",
              "      <th>2018-07-10</th>\n",
              "      <td>-0.000082</td>\n",
              "      <td>-0.079239</td>\n",
              "      <td>0.012818</td>\n",
              "      <td>0.236055</td>\n",
              "    </tr>\n",
              "    <tr>\n",
              "      <th>...</th>\n",
              "      <td>...</td>\n",
              "      <td>...</td>\n",
              "      <td>...</td>\n",
              "      <td>...</td>\n",
              "    </tr>\n",
              "    <tr>\n",
              "      <th>2020-06-22</th>\n",
              "      <td>0.000123</td>\n",
              "      <td>-0.069760</td>\n",
              "      <td>-0.006027</td>\n",
              "      <td>-0.230835</td>\n",
              "    </tr>\n",
              "    <tr>\n",
              "      <th>2020-06-23</th>\n",
              "      <td>-0.006572</td>\n",
              "      <td>0.124087</td>\n",
              "      <td>0.007159</td>\n",
              "      <td>-0.015284</td>\n",
              "    </tr>\n",
              "    <tr>\n",
              "      <th>2020-06-24</th>\n",
              "      <td>0.010705</td>\n",
              "      <td>0.314312</td>\n",
              "      <td>-0.040742</td>\n",
              "      <td>0.782926</td>\n",
              "    </tr>\n",
              "    <tr>\n",
              "      <th>2020-06-25</th>\n",
              "      <td>0.002577</td>\n",
              "      <td>-0.098945</td>\n",
              "      <td>0.026154</td>\n",
              "      <td>-0.176231</td>\n",
              "    </tr>\n",
              "    <tr>\n",
              "      <th>2020-06-26</th>\n",
              "      <td>0.010827</td>\n",
              "      <td>0.203527</td>\n",
              "      <td>-0.025579</td>\n",
              "      <td>-0.124319</td>\n",
              "    </tr>\n",
              "  </tbody>\n",
              "</table>\n",
              "<p>500 rows × 4 columns</p>\n",
              "</div>"
            ],
            "text/plain": [
              "            daily_returns_tlt  ...  daily_returns_tsla_volume\n",
              "2018-07-03           0.005109  ...                  -0.356887\n",
              "2018-07-05           0.002869  ...                   0.456280\n",
              "2018-07-06           0.003106  ...                  -0.492655\n",
              "2018-07-09          -0.006112  ...                  -0.190807\n",
              "2018-07-10          -0.000082  ...                   0.236055\n",
              "...                       ...  ...                        ...\n",
              "2020-06-22           0.000123  ...                  -0.230835\n",
              "2020-06-23          -0.006572  ...                  -0.015284\n",
              "2020-06-24           0.010705  ...                   0.782926\n",
              "2020-06-25           0.002577  ...                  -0.176231\n",
              "2020-06-26           0.010827  ...                  -0.124319\n",
              "\n",
              "[500 rows x 4 columns]"
            ]
          },
          "metadata": {
            "tags": []
          },
          "execution_count": 79
        }
      ]
    },
    {
      "cell_type": "code",
      "metadata": {
        "id": "tIEr7e3qJg5G",
        "colab_type": "code",
        "colab": {}
      },
      "source": [
        "from google.colab import files\n",
        "\n",
        "features_df.to_csv(\"features_df.csv\")\n",
        "files.download('features_df.csv')"
      ],
      "execution_count": null,
      "outputs": []
    },
    {
      "cell_type": "code",
      "metadata": {
        "id": "SXkAMPKk72-w",
        "colab_type": "code",
        "colab": {
          "base_uri": "https://localhost:8080/",
          "height": 355
        },
        "outputId": "bec345b2-89c4-4bde-8f1a-4cce8c3c7f1a"
      },
      "source": [
        "#Shifiting the target column\n",
        "y=[]\n",
        "dr=features_df['daily_returns_tsla']\n",
        "for i in dr:\n",
        "  if i>0:\n",
        "    y.append(1)\n",
        "  else:\n",
        "    y.append(0)\n",
        "y.pop(0)\n",
        "y.append(9)\n",
        "features_df['target']=y\n",
        "features_df.drop(features_df.tail(1).index,inplace=True) \n",
        "features_df.head(10)"
      ],
      "execution_count": null,
      "outputs": [
        {
          "output_type": "execute_result",
          "data": {
            "text/html": [
              "<div>\n",
              "<style scoped>\n",
              "    .dataframe tbody tr th:only-of-type {\n",
              "        vertical-align: middle;\n",
              "    }\n",
              "\n",
              "    .dataframe tbody tr th {\n",
              "        vertical-align: top;\n",
              "    }\n",
              "\n",
              "    .dataframe thead th {\n",
              "        text-align: right;\n",
              "    }\n",
              "</style>\n",
              "<table border=\"1\" class=\"dataframe\">\n",
              "  <thead>\n",
              "    <tr style=\"text-align: right;\">\n",
              "      <th></th>\n",
              "      <th>daily_returns_tlt</th>\n",
              "      <th>daily_returns_tlt_volume</th>\n",
              "      <th>daily_returns_tsla</th>\n",
              "      <th>daily_returns_tsla_volume</th>\n",
              "      <th>target</th>\n",
              "    </tr>\n",
              "  </thead>\n",
              "  <tbody>\n",
              "    <tr>\n",
              "      <th>2018-07-03</th>\n",
              "      <td>0.005109</td>\n",
              "      <td>-0.625701</td>\n",
              "      <td>-0.072060</td>\n",
              "      <td>-0.356887</td>\n",
              "      <td>0</td>\n",
              "    </tr>\n",
              "    <tr>\n",
              "      <th>2018-07-05</th>\n",
              "      <td>0.002869</td>\n",
              "      <td>0.044150</td>\n",
              "      <td>-0.005836</td>\n",
              "      <td>0.456280</td>\n",
              "      <td>0</td>\n",
              "    </tr>\n",
              "    <tr>\n",
              "      <th>2018-07-06</th>\n",
              "      <td>0.003106</td>\n",
              "      <td>0.199468</td>\n",
              "      <td>-0.000647</td>\n",
              "      <td>-0.492655</td>\n",
              "      <td>1</td>\n",
              "    </tr>\n",
              "    <tr>\n",
              "      <th>2018-07-09</th>\n",
              "      <td>-0.006112</td>\n",
              "      <td>0.201659</td>\n",
              "      <td>0.030365</td>\n",
              "      <td>-0.190807</td>\n",
              "      <td>1</td>\n",
              "    </tr>\n",
              "    <tr>\n",
              "      <th>2018-07-10</th>\n",
              "      <td>-0.000082</td>\n",
              "      <td>-0.079239</td>\n",
              "      <td>0.012818</td>\n",
              "      <td>0.236055</td>\n",
              "      <td>0</td>\n",
              "    </tr>\n",
              "    <tr>\n",
              "      <th>2018-07-11</th>\n",
              "      <td>0.003936</td>\n",
              "      <td>-0.003372</td>\n",
              "      <td>-0.010764</td>\n",
              "      <td>-0.473531</td>\n",
              "      <td>0</td>\n",
              "    </tr>\n",
              "    <tr>\n",
              "      <th>2018-07-12</th>\n",
              "      <td>-0.000163</td>\n",
              "      <td>-0.203169</td>\n",
              "      <td>-0.006836</td>\n",
              "      <td>0.177076</td>\n",
              "      <td>1</td>\n",
              "    </tr>\n",
              "    <tr>\n",
              "      <th>2018-07-13</th>\n",
              "      <td>0.002614</td>\n",
              "      <td>-0.008871</td>\n",
              "      <td>0.006567</td>\n",
              "      <td>0.087863</td>\n",
              "      <td>0</td>\n",
              "    </tr>\n",
              "    <tr>\n",
              "      <th>2018-07-16</th>\n",
              "      <td>-0.004318</td>\n",
              "      <td>0.220366</td>\n",
              "      <td>-0.027008</td>\n",
              "      <td>0.285444</td>\n",
              "      <td>1</td>\n",
              "    </tr>\n",
              "    <tr>\n",
              "      <th>2018-07-17</th>\n",
              "      <td>-0.001882</td>\n",
              "      <td>-0.226312</td>\n",
              "      <td>0.040233</td>\n",
              "      <td>-0.112530</td>\n",
              "      <td>1</td>\n",
              "    </tr>\n",
              "  </tbody>\n",
              "</table>\n",
              "</div>"
            ],
            "text/plain": [
              "            daily_returns_tlt  ...  target\n",
              "2018-07-03           0.005109  ...       0\n",
              "2018-07-05           0.002869  ...       0\n",
              "2018-07-06           0.003106  ...       1\n",
              "2018-07-09          -0.006112  ...       1\n",
              "2018-07-10          -0.000082  ...       0\n",
              "2018-07-11           0.003936  ...       0\n",
              "2018-07-12          -0.000163  ...       1\n",
              "2018-07-13           0.002614  ...       0\n",
              "2018-07-16          -0.004318  ...       1\n",
              "2018-07-17          -0.001882  ...       1\n",
              "\n",
              "[10 rows x 5 columns]"
            ]
          },
          "metadata": {
            "tags": []
          },
          "execution_count": 80
        }
      ]
    },
    {
      "cell_type": "code",
      "metadata": {
        "id": "B3TBr4od81jP",
        "colab_type": "code",
        "colab": {
          "base_uri": "https://localhost:8080/",
          "height": 35
        },
        "outputId": "9357467b-564f-4676-9ab7-d0c8cf9b5669"
      },
      "source": [
        "features_df.shape"
      ],
      "execution_count": null,
      "outputs": [
        {
          "output_type": "execute_result",
          "data": {
            "text/plain": [
              "(499, 5)"
            ]
          },
          "metadata": {
            "tags": []
          },
          "execution_count": 81
        }
      ]
    },
    {
      "cell_type": "code",
      "metadata": {
        "id": "Je6KdZ9ME0_9",
        "colab_type": "code",
        "colab": {}
      },
      "source": [
        "#from google.colab import files\n",
        "\n",
        "#dates_1=pd.DataFrame({\"date\": pd.Series(features_df.index)})\n",
        "#dates_1.to_csv(\"dates.csv\")\n",
        "#files.download('dates.csv')"
      ],
      "execution_count": null,
      "outputs": []
    },
    {
      "cell_type": "code",
      "metadata": {
        "id": "-Id4jw536uoF",
        "colab_type": "code",
        "colab": {
          "base_uri": "https://localhost:8080/",
          "height": 233
        },
        "outputId": "1ca9a7fa-5ce6-4e88-aa34-66bb60c4be07"
      },
      "source": [
        "sentiment=pd.read_csv('/allapinewscompound.csv')\n",
        "sentiment.drop(columns=['daily_returns_tlt'\t,'daily_returns_tlt_volume',\t'daily_returns_tsla',\t'daily_returns_tsla_volume',\t'target'],inplace=True)\n",
        "sentiment.columns=['date','gnews_&_stockapi_mean_compound']\n",
        "sentiment.set_index('date', inplace=True)\n",
        "sentiment.head()"
      ],
      "execution_count": null,
      "outputs": [
        {
          "output_type": "execute_result",
          "data": {
            "text/html": [
              "<div>\n",
              "<style scoped>\n",
              "    .dataframe tbody tr th:only-of-type {\n",
              "        vertical-align: middle;\n",
              "    }\n",
              "\n",
              "    .dataframe tbody tr th {\n",
              "        vertical-align: top;\n",
              "    }\n",
              "\n",
              "    .dataframe thead th {\n",
              "        text-align: right;\n",
              "    }\n",
              "</style>\n",
              "<table border=\"1\" class=\"dataframe\">\n",
              "  <thead>\n",
              "    <tr style=\"text-align: right;\">\n",
              "      <th></th>\n",
              "      <th>gnews_&amp;_stockapi_mean_compound</th>\n",
              "    </tr>\n",
              "    <tr>\n",
              "      <th>date</th>\n",
              "      <th></th>\n",
              "    </tr>\n",
              "  </thead>\n",
              "  <tbody>\n",
              "    <tr>\n",
              "      <th>2018-07-03</th>\n",
              "      <td>-0.016740</td>\n",
              "    </tr>\n",
              "    <tr>\n",
              "      <th>2018-07-05</th>\n",
              "      <td>-0.450450</td>\n",
              "    </tr>\n",
              "    <tr>\n",
              "      <th>2018-07-06</th>\n",
              "      <td>-0.423822</td>\n",
              "    </tr>\n",
              "    <tr>\n",
              "      <th>2018-07-09</th>\n",
              "      <td>0.122037</td>\n",
              "    </tr>\n",
              "    <tr>\n",
              "      <th>2018-07-10</th>\n",
              "      <td>0.097726</td>\n",
              "    </tr>\n",
              "  </tbody>\n",
              "</table>\n",
              "</div>"
            ],
            "text/plain": [
              "            gnews_&_stockapi_mean_compound\n",
              "date                                      \n",
              "2018-07-03                       -0.016740\n",
              "2018-07-05                       -0.450450\n",
              "2018-07-06                       -0.423822\n",
              "2018-07-09                        0.122037\n",
              "2018-07-10                        0.097726"
            ]
          },
          "metadata": {
            "tags": []
          },
          "execution_count": 82
        }
      ]
    },
    {
      "cell_type": "code",
      "metadata": {
        "id": "wb_kh3sn7LHx",
        "colab_type": "code",
        "colab": {
          "base_uri": "https://localhost:8080/",
          "height": 415
        },
        "outputId": "7deddaab-cc83-4985-9b5c-2f02e6167c81"
      },
      "source": [
        "features_df['avg_sentiment']=sentiment['gnews_&_stockapi_mean_compound'].tolist()\n",
        "features_df\n"
      ],
      "execution_count": null,
      "outputs": [
        {
          "output_type": "execute_result",
          "data": {
            "text/html": [
              "<div>\n",
              "<style scoped>\n",
              "    .dataframe tbody tr th:only-of-type {\n",
              "        vertical-align: middle;\n",
              "    }\n",
              "\n",
              "    .dataframe tbody tr th {\n",
              "        vertical-align: top;\n",
              "    }\n",
              "\n",
              "    .dataframe thead th {\n",
              "        text-align: right;\n",
              "    }\n",
              "</style>\n",
              "<table border=\"1\" class=\"dataframe\">\n",
              "  <thead>\n",
              "    <tr style=\"text-align: right;\">\n",
              "      <th></th>\n",
              "      <th>daily_returns_tlt</th>\n",
              "      <th>daily_returns_tlt_volume</th>\n",
              "      <th>daily_returns_tsla</th>\n",
              "      <th>daily_returns_tsla_volume</th>\n",
              "      <th>target</th>\n",
              "      <th>avg_sentiment</th>\n",
              "    </tr>\n",
              "  </thead>\n",
              "  <tbody>\n",
              "    <tr>\n",
              "      <th>2018-07-03</th>\n",
              "      <td>0.005109</td>\n",
              "      <td>-0.625701</td>\n",
              "      <td>-0.072060</td>\n",
              "      <td>-0.356887</td>\n",
              "      <td>0</td>\n",
              "      <td>-0.016740</td>\n",
              "    </tr>\n",
              "    <tr>\n",
              "      <th>2018-07-05</th>\n",
              "      <td>0.002869</td>\n",
              "      <td>0.044150</td>\n",
              "      <td>-0.005836</td>\n",
              "      <td>0.456280</td>\n",
              "      <td>0</td>\n",
              "      <td>-0.450450</td>\n",
              "    </tr>\n",
              "    <tr>\n",
              "      <th>2018-07-06</th>\n",
              "      <td>0.003106</td>\n",
              "      <td>0.199468</td>\n",
              "      <td>-0.000647</td>\n",
              "      <td>-0.492655</td>\n",
              "      <td>1</td>\n",
              "      <td>-0.423822</td>\n",
              "    </tr>\n",
              "    <tr>\n",
              "      <th>2018-07-09</th>\n",
              "      <td>-0.006112</td>\n",
              "      <td>0.201659</td>\n",
              "      <td>0.030365</td>\n",
              "      <td>-0.190807</td>\n",
              "      <td>1</td>\n",
              "      <td>0.122037</td>\n",
              "    </tr>\n",
              "    <tr>\n",
              "      <th>2018-07-10</th>\n",
              "      <td>-0.000082</td>\n",
              "      <td>-0.079239</td>\n",
              "      <td>0.012818</td>\n",
              "      <td>0.236055</td>\n",
              "      <td>0</td>\n",
              "      <td>0.097726</td>\n",
              "    </tr>\n",
              "    <tr>\n",
              "      <th>...</th>\n",
              "      <td>...</td>\n",
              "      <td>...</td>\n",
              "      <td>...</td>\n",
              "      <td>...</td>\n",
              "      <td>...</td>\n",
              "      <td>...</td>\n",
              "    </tr>\n",
              "    <tr>\n",
              "      <th>2020-06-19</th>\n",
              "      <td>0.000616</td>\n",
              "      <td>-0.382424</td>\n",
              "      <td>-0.003436</td>\n",
              "      <td>-0.573621</td>\n",
              "      <td>0</td>\n",
              "      <td>0.201724</td>\n",
              "    </tr>\n",
              "    <tr>\n",
              "      <th>2020-06-22</th>\n",
              "      <td>0.000123</td>\n",
              "      <td>-0.069760</td>\n",
              "      <td>-0.006027</td>\n",
              "      <td>-0.230835</td>\n",
              "      <td>1</td>\n",
              "      <td>0.259793</td>\n",
              "    </tr>\n",
              "    <tr>\n",
              "      <th>2020-06-23</th>\n",
              "      <td>-0.006572</td>\n",
              "      <td>0.124087</td>\n",
              "      <td>0.007159</td>\n",
              "      <td>-0.015284</td>\n",
              "      <td>0</td>\n",
              "      <td>0.141681</td>\n",
              "    </tr>\n",
              "    <tr>\n",
              "      <th>2020-06-24</th>\n",
              "      <td>0.010705</td>\n",
              "      <td>0.314312</td>\n",
              "      <td>-0.040742</td>\n",
              "      <td>0.782926</td>\n",
              "      <td>1</td>\n",
              "      <td>-0.075773</td>\n",
              "    </tr>\n",
              "    <tr>\n",
              "      <th>2020-06-25</th>\n",
              "      <td>0.002577</td>\n",
              "      <td>-0.098945</td>\n",
              "      <td>0.026154</td>\n",
              "      <td>-0.176231</td>\n",
              "      <td>0</td>\n",
              "      <td>-0.194380</td>\n",
              "    </tr>\n",
              "  </tbody>\n",
              "</table>\n",
              "<p>499 rows × 6 columns</p>\n",
              "</div>"
            ],
            "text/plain": [
              "            daily_returns_tlt  daily_returns_tlt_volume  ...  target  avg_sentiment\n",
              "2018-07-03           0.005109                 -0.625701  ...       0      -0.016740\n",
              "2018-07-05           0.002869                  0.044150  ...       0      -0.450450\n",
              "2018-07-06           0.003106                  0.199468  ...       1      -0.423822\n",
              "2018-07-09          -0.006112                  0.201659  ...       1       0.122037\n",
              "2018-07-10          -0.000082                 -0.079239  ...       0       0.097726\n",
              "...                       ...                       ...  ...     ...            ...\n",
              "2020-06-19           0.000616                 -0.382424  ...       0       0.201724\n",
              "2020-06-22           0.000123                 -0.069760  ...       1       0.259793\n",
              "2020-06-23          -0.006572                  0.124087  ...       0       0.141681\n",
              "2020-06-24           0.010705                  0.314312  ...       1      -0.075773\n",
              "2020-06-25           0.002577                 -0.098945  ...       0      -0.194380\n",
              "\n",
              "[499 rows x 6 columns]"
            ]
          },
          "metadata": {
            "tags": []
          },
          "execution_count": 86
        }
      ]
    },
    {
      "cell_type": "code",
      "metadata": {
        "id": "rkAeMc38A_pe",
        "colab_type": "code",
        "colab": {
          "base_uri": "https://localhost:8080/",
          "height": 202
        },
        "outputId": "d3cdb07f-a5d2-43de-c68d-6debcf005ab6"
      },
      "source": [
        "features_df=features_df[['daily_returns_tlt'\t,'daily_returns_tlt_volume'\t,'daily_returns_tsla',\t'daily_returns_tsla_volume'\t,'avg_sentiment','target'\t]]\n",
        "features_df.head()"
      ],
      "execution_count": null,
      "outputs": [
        {
          "output_type": "execute_result",
          "data": {
            "text/html": [
              "<div>\n",
              "<style scoped>\n",
              "    .dataframe tbody tr th:only-of-type {\n",
              "        vertical-align: middle;\n",
              "    }\n",
              "\n",
              "    .dataframe tbody tr th {\n",
              "        vertical-align: top;\n",
              "    }\n",
              "\n",
              "    .dataframe thead th {\n",
              "        text-align: right;\n",
              "    }\n",
              "</style>\n",
              "<table border=\"1\" class=\"dataframe\">\n",
              "  <thead>\n",
              "    <tr style=\"text-align: right;\">\n",
              "      <th></th>\n",
              "      <th>daily_returns_tlt</th>\n",
              "      <th>daily_returns_tlt_volume</th>\n",
              "      <th>daily_returns_tsla</th>\n",
              "      <th>daily_returns_tsla_volume</th>\n",
              "      <th>avg_sentiment</th>\n",
              "      <th>target</th>\n",
              "    </tr>\n",
              "  </thead>\n",
              "  <tbody>\n",
              "    <tr>\n",
              "      <th>2018-07-03</th>\n",
              "      <td>0.005109</td>\n",
              "      <td>-0.625701</td>\n",
              "      <td>-0.072060</td>\n",
              "      <td>-0.356887</td>\n",
              "      <td>-0.016740</td>\n",
              "      <td>0</td>\n",
              "    </tr>\n",
              "    <tr>\n",
              "      <th>2018-07-05</th>\n",
              "      <td>0.002869</td>\n",
              "      <td>0.044150</td>\n",
              "      <td>-0.005836</td>\n",
              "      <td>0.456280</td>\n",
              "      <td>-0.450450</td>\n",
              "      <td>0</td>\n",
              "    </tr>\n",
              "    <tr>\n",
              "      <th>2018-07-06</th>\n",
              "      <td>0.003106</td>\n",
              "      <td>0.199468</td>\n",
              "      <td>-0.000647</td>\n",
              "      <td>-0.492655</td>\n",
              "      <td>-0.423822</td>\n",
              "      <td>1</td>\n",
              "    </tr>\n",
              "    <tr>\n",
              "      <th>2018-07-09</th>\n",
              "      <td>-0.006112</td>\n",
              "      <td>0.201659</td>\n",
              "      <td>0.030365</td>\n",
              "      <td>-0.190807</td>\n",
              "      <td>0.122037</td>\n",
              "      <td>1</td>\n",
              "    </tr>\n",
              "    <tr>\n",
              "      <th>2018-07-10</th>\n",
              "      <td>-0.000082</td>\n",
              "      <td>-0.079239</td>\n",
              "      <td>0.012818</td>\n",
              "      <td>0.236055</td>\n",
              "      <td>0.097726</td>\n",
              "      <td>0</td>\n",
              "    </tr>\n",
              "  </tbody>\n",
              "</table>\n",
              "</div>"
            ],
            "text/plain": [
              "            daily_returns_tlt  daily_returns_tlt_volume  ...  avg_sentiment  target\n",
              "2018-07-03           0.005109                 -0.625701  ...      -0.016740       0\n",
              "2018-07-05           0.002869                  0.044150  ...      -0.450450       0\n",
              "2018-07-06           0.003106                  0.199468  ...      -0.423822       1\n",
              "2018-07-09          -0.006112                  0.201659  ...       0.122037       1\n",
              "2018-07-10          -0.000082                 -0.079239  ...       0.097726       0\n",
              "\n",
              "[5 rows x 6 columns]"
            ]
          },
          "metadata": {
            "tags": []
          },
          "execution_count": 88
        }
      ]
    },
    {
      "cell_type": "code",
      "metadata": {
        "id": "p6FlUrbvBUXX",
        "colab_type": "code",
        "colab": {
          "base_uri": "https://localhost:8080/",
          "height": 17
        },
        "outputId": "f1bdeb4b-6915-4690-cbf9-aaa60a252a2b"
      },
      "source": [
        "from google.colab import files\n",
        "\n",
        "features_df.to_csv(\"tesla_features.csv\")\n",
        "files.download('tesla_features.csv')"
      ],
      "execution_count": null,
      "outputs": [
        {
          "output_type": "display_data",
          "data": {
            "application/javascript": [
              "\n",
              "    async function download(id, filename, size) {\n",
              "      if (!google.colab.kernel.accessAllowed) {\n",
              "        return;\n",
              "      }\n",
              "      const div = document.createElement('div');\n",
              "      const label = document.createElement('label');\n",
              "      label.textContent = `Downloading \"${filename}\": `;\n",
              "      div.appendChild(label);\n",
              "      const progress = document.createElement('progress');\n",
              "      progress.max = size;\n",
              "      div.appendChild(progress);\n",
              "      document.body.appendChild(div);\n",
              "\n",
              "      const buffers = [];\n",
              "      let downloaded = 0;\n",
              "\n",
              "      const channel = await google.colab.kernel.comms.open(id);\n",
              "      // Send a message to notify the kernel that we're ready.\n",
              "      channel.send({})\n",
              "\n",
              "      for await (const message of channel.messages) {\n",
              "        // Send a message to notify the kernel that we're ready.\n",
              "        channel.send({})\n",
              "        if (message.buffers) {\n",
              "          for (const buffer of message.buffers) {\n",
              "            buffers.push(buffer);\n",
              "            downloaded += buffer.byteLength;\n",
              "            progress.value = downloaded;\n",
              "          }\n",
              "        }\n",
              "      }\n",
              "      const blob = new Blob(buffers, {type: 'application/binary'});\n",
              "      const a = document.createElement('a');\n",
              "      a.href = window.URL.createObjectURL(blob);\n",
              "      a.download = filename;\n",
              "      div.appendChild(a);\n",
              "      a.click();\n",
              "      div.remove();\n",
              "    }\n",
              "  "
            ],
            "text/plain": [
              "<IPython.core.display.Javascript object>"
            ]
          },
          "metadata": {
            "tags": []
          }
        },
        {
          "output_type": "display_data",
          "data": {
            "application/javascript": [
              "download(\"download_d89b9839-ff26-4121-a6ba-13f3d36c7abb\", \"tesla_features.csv\", 57494)"
            ],
            "text/plain": [
              "<IPython.core.display.Javascript object>"
            ]
          },
          "metadata": {
            "tags": []
          }
        }
      ]
    }
  ]
}